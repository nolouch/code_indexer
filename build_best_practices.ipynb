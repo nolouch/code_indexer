{
 "cells": [
  {
   "cell_type": "code",
   "execution_count": 1,
   "metadata": {},
   "outputs": [],
   "source": [
    "from llm.factory import LLMInterface\n",
    "\n",
    "llm_client = LLMInterface(\"bedrock\", \"arn:aws:bedrock:us-east-1:841162690310:inference-profile/us.anthropic.claude-3-7-sonnet-20250219-v1:0\")"
   ]
  },
  {
   "cell_type": "code",
   "execution_count": 2,
   "metadata": {},
   "outputs": [],
   "source": [
    "import os\n",
    "\n",
    "from knowledgebase.best_practices import BestPracticesKnowledgeBase\n",
    "from llm.embedding import get_text_embedding\n",
    "import numpy as np\n",
    "from knowledgebase.pr_reader import GitHubPRReader\n",
    "\n",
    "github_token = os.getenv('GITHUB_TOKEN')\n",
    "if not github_token:\n",
    "    raise ValueError(\"Please set GITHUB_TOKEN environment variable\")\n",
    "\n",
    "def embedding_func(text: str) -> np.ndarray:\n",
    "    return get_text_embedding(text, \"text-embedding-3-small\")\n",
    "\n",
    "bp = BestPracticesKnowledgeBase(llm_client, embedding_func)\n",
    "reader = GitHubPRReader(github_token)"
   ]
  },
  {
   "cell_type": "code",
   "execution_count": null,
   "metadata": {},
   "outputs": [],
   "source": [
    "github_pr_url = \"https://github.com/pingcap/tidb/pull/58899\"\n",
    "\n",
    "pr_details = reader.get_pr_details(github_pr_url)\n",
    "print(pr_details.format())"
   ]
  },
  {
   "cell_type": "code",
   "execution_count": null,
   "metadata": {},
   "outputs": [],
   "source": [
    "bp.add_pr_review_best_practices(github_pr_url, pr_details.format(\"markdown\"), commit=True)"
   ]
  },
  {
   "cell_type": "code",
   "execution_count": null,
   "metadata": {},
   "outputs": [],
   "source": [
    "bp.find_best_practices(\"Refact pointGetExecutor init function to ensure member fields are correctly reset\")"
   ]
  }
 ],
 "metadata": {
  "kernelspec": {
   "display_name": "code_index",
   "language": "python",
   "name": "python3"
  },
  "language_info": {
   "codemirror_mode": {
    "name": "ipython",
    "version": 3
   },
   "file_extension": ".py",
   "mimetype": "text/x-python",
   "name": "python",
   "nbconvert_exporter": "python",
   "pygments_lexer": "ipython3",
   "version": "3.11.11"
  }
 },
 "nbformat": 4,
 "nbformat_minor": 2
}
