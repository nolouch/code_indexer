{
 "cells": [
  {
   "cell_type": "code",
   "execution_count": 1,
   "metadata": {},
   "outputs": [],
   "source": [
    "from llm.factory import LLMInterface\n",
    "\n",
    "llm_client = LLMInterface(\"bedrock\", \"arn:aws:bedrock:us-east-1:841162690310:inference-profile/us.anthropic.claude-3-7-sonnet-20250219-v1:0\")"
   ]
  },
  {
   "cell_type": "code",
   "execution_count": 2,
   "metadata": {},
   "outputs": [],
   "source": [
    "import os\n",
    "\n",
    "from knowledgebase.best_practices import BestPracticesKnowledgeBase\n",
    "from llm.embedding import get_text_embedding\n",
    "import numpy as np\n",
    "from knowledgebase.pr_reader import GitHubPRReader\n",
    "\n",
    "github_token = os.getenv('GITHUB_TOKEN')\n",
    "if not github_token:\n",
    "    raise ValueError(\"Please set GITHUB_TOKEN environment variable\")\n",
    "\n",
    "def embedding_func(text: str) -> np.ndarray:\n",
    "    return get_text_embedding(text, \"text-embedding-3-small\")\n",
    "\n",
    "bp = BestPracticesKnowledgeBase(llm_client, embedding_func)\n",
    "reader = GitHubPRReader(github_token)"
   ]
  },
  {
   "cell_type": "code",
   "execution_count": null,
   "metadata": {},
   "outputs": [
    {
     "name": "stdout",
     "output_type": "stream",
     "text": [
      "Pull Request: planner: calculate plan_digest in place when fetching plan exec info from stmt_stats in `SHOW PLAN FOR <SQL>`\n",
      "State: closed\n",
      "Created: 2025-03-26 09:36:25+00:00\n",
      "Updated: 2025-03-31 04:16:38+00:00\n",
      "Base Branch: master\n",
      "Head Branch: show-plan-digest\n",
      "\n",
      "Description:\n",
      "<!--\n",
      "\n",
      "Thank you for contributing to TiDB!\n",
      "\n",
      "PR Title Format:\n",
      "1. pkg [, pkg2, pkg3]: what's changed\n",
      "2. *: what's changed\n",
      "\n",
      "-->\n",
      "\n",
      "### What problem does this PR solve?\n",
      "<!--\n",
      "\n",
      "Please create an issue first to describe the problem.\n",
      "\n",
      "There MUST be one line starting with \"Issue Number:  \" and\n",
      "linking the relevant issues via the \"close\" or \"ref\".\n",
      "\n",
      "For more info, check https://pingcap.github.io/tidb-dev-guide/contribute-to-tidb/contribute-code.html#referring-to-an-issue.\n",
      "\n",
      "-->\n",
      "\n",
      "Issue Number: ref #60148\n",
      "\n",
      "Problem Summary: planner: calculate plan_digest in place when fetching plan exec info from stmt_stats in `SHOW PLAN FOR <SQL>`\n",
      "\n",
      "### What changed and how does it work?\n",
      "\n",
      "Due to some historical reason, `binding.plan_digest` might be empty, which prevents us from joining `mysql.bind_info` and `stmt_stats` to get bindings' corresponding plan execution info.\n",
      "\n",
      "For example, if a binding is created manually like `create global binding using select ...`, then its `plan_digest` is empty by default.\n",
      "\n",
      "This PR calculates plan_digest for bindings in place when trying to fetch exec info for a binding. All logic is behind `getBindingPlanDigest`.\n",
      "\n",
      "### Check List\n",
      "\n",
      "Tests <!-- At least one of them must be included. -->\n",
      "\n",
      "- [x] Unit test\n",
      "- [ ] Integration test\n",
      "- [ ] Manual test (add detailed scripts or steps below)\n",
      "- [ ] No need to test\n",
      "  > - [ ] I checked and no code files have been changed.\n",
      "  > <!-- Or your custom  \"No need to test\" reasons -->\n",
      "\n",
      "Side effects\n",
      "\n",
      "- [ ] Performance regression: Consumes more CPU\n",
      "- [ ] Performance regression: Consumes more Memory\n",
      "- [ ] Breaking backward compatibility\n",
      "\n",
      "Documentation\n",
      "\n",
      "- [ ] Affects user behaviors\n",
      "- [ ] Contains syntax changes\n",
      "- [ ] Contains variable changes\n",
      "- [ ] Contains experimental features\n",
      "- [ ] Changes MySQL compatibility\n",
      "\n",
      "### Release note\n",
      "\n",
      "<!-- compatibility change, improvement, bugfix, and new feature need a release note -->\n",
      "\n",
      "Please refer to [Release Notes Language Style Guide](https://pingcap.github.io/tidb-dev-guide/contribute-to-tidb/release-notes-style-guide.html) to write a quality release note.\n",
      "\n",
      "```release-note\n",
      "None\n",
      "```\n",
      "\n",
      "\n",
      "Reviews:\n",
      "\n",
      "henrybw - APPROVED - 2025-03-27 03:44:26+00:00\n",
      "Review comment: Seems fine to me.\n",
      "\n",
      "Inline comments:\n",
      "- File: pkg/bindinfo/binding_auto.go, Position: None\n",
      "  henrybw: Since generating a new plan digest seems like an expensive operation (invoking the planner and optimizing the plan), maybe we should log an info message when we do this? Just a suggestion, though: I'm fine with not logging if you think that makes more sense.\n",
      "  Posted at: 2025-03-27 03:39:58+00:00\n",
      "\n",
      "time-and-fate - APPROVED - 2025-03-27 05:57:15+00:00\n",
      "\n",
      "qw4990 - COMMENTED - 2025-03-27 06:10:28+00:00\n",
      "\n",
      "Inline comments:\n",
      "- File: pkg/bindinfo/binding_auto.go, Position: None\n",
      "  qw4990: Got it, but no logging seems OK since the generation operation is a in-memory operation, which shouldn't take a long time, and `SHOW PLAN FOR <SQL>` should be a low-frequently operation, so it should be OK here without any logging.\n",
      "  Posted at: 2025-03-27 06:10:28+00:00\n",
      "\n",
      "hawkingrei - APPROVED - 2025-03-27 06:18:49+00:00\n",
      "\n",
      "hawkingrei - APPROVED - 2025-03-27 06:24:03+00:00\n",
      "\n",
      "tangenta - APPROVED - 2025-03-27 06:50:39+00:00\n"
     ]
    }
   ],
   "source": [
    "github_pr_url = \"https://github.com/pingcap/tidb/pull/60202\"\n",
    "\n",
    "pr_details = reader.get_pr_details(github_pr_url)\n",
    "print(pr_details.format())"
   ]
  },
  {
   "cell_type": "code",
   "execution_count": 7,
   "metadata": {},
   "outputs": [
    {
     "name": "stdout",
     "output_type": "stream",
     "text": [
      "insert best practice: {'tag': 'database/binding/plan_digest', 'guidelines': \"[Hidden Constraint] When working with SQL plan bindings in TiDB, be aware that manually created bindings (e.g., via 'CREATE GLOBAL BINDING') may have empty plan_digest values by default, which prevents joining with execution statistics. Calculate these digests on demand when needed.\", 'confidence': 'high', 'evidence': \"PR description explains: 'Due to some historical reason, binding.plan_digest might be empty, which prevents us from joining mysql.bind_info and stmt_stats to get bindings' corresponding plan execution info. For example, if a binding is created manually like create global binding using select ..., then its plan_digest is empty by default.'\"}\n"
     ]
    },
    {
     "name": "stderr",
     "output_type": "stream",
     "text": [
      "2025-04-01 21:11:20,715 - httpx - INFO - HTTP Request: POST https://api.openai.com/v1/embeddings \"HTTP/1.1 200 OK\"\n"
     ]
    },
    {
     "name": "stdout",
     "output_type": "stream",
     "text": [
      "insert best practice: {'tag': 'performance/expensive_operations', 'guidelines': '[General Guideline] Consider the performance implications of expensive operations like plan generation and optimization. For low-frequency operations, the performance cost may be acceptable, but for high-frequency paths, such costs should be minimized or cached.', 'confidence': 'high', 'evidence': \"Reviewer henrybw noted: 'Since generating a new plan digest seems like an expensive operation (invoking the planner and optimizing the plan), maybe we should log an info message when we do this?' and qw4990 responded: 'the generation operation is a in-memory operation, which shouldn't take a long time, and `SHOW PLAN FOR <SQL>` should be a low-frequently operation, so it should be OK here without any logging.'\"}\n"
     ]
    },
    {
     "name": "stderr",
     "output_type": "stream",
     "text": [
      "2025-04-01 21:11:21,525 - httpx - INFO - HTTP Request: POST https://api.openai.com/v1/embeddings \"HTTP/1.1 200 OK\"\n"
     ]
    },
    {
     "data": {
      "text/plain": [
       "{'pr_summary': \"This PR adds functionality to calculate plan_digest in place when fetching plan execution information from statement statistics in the 'SHOW PLAN FOR <SQL>' command, addressing a historical issue where binding.plan_digest might be empty for manually created bindings.\",\n",
       " 'best_practices': [{'tag': 'database/binding/plan_digest',\n",
       "   'guidelines': \"[Hidden Constraint] When working with SQL plan bindings in TiDB, be aware that manually created bindings (e.g., via 'CREATE GLOBAL BINDING') may have empty plan_digest values by default, which prevents joining with execution statistics. Calculate these digests on demand when needed.\",\n",
       "   'confidence': 'high',\n",
       "   'evidence': \"PR description explains: 'Due to some historical reason, binding.plan_digest might be empty, which prevents us from joining mysql.bind_info and stmt_stats to get bindings' corresponding plan execution info. For example, if a binding is created manually like create global binding using select ..., then its plan_digest is empty by default.'\"},\n",
       "  {'tag': 'performance/expensive_operations',\n",
       "   'guidelines': '[General Guideline] Consider the performance implications of expensive operations like plan generation and optimization. For low-frequency operations, the performance cost may be acceptable, but for high-frequency paths, such costs should be minimized or cached.',\n",
       "   'confidence': 'high',\n",
       "   'evidence': \"Reviewer henrybw noted: 'Since generating a new plan digest seems like an expensive operation (invoking the planner and optimizing the plan), maybe we should log an info message when we do this?' and qw4990 responded: 'the generation operation is a in-memory operation, which shouldn't take a long time, and `SHOW PLAN FOR <SQL>` should be a low-frequently operation, so it should be OK here without any logging.'\"}],\n",
       " 'search_guide': {'pr_types': ['Database binding improvements',\n",
       "   'SQL plan management',\n",
       "   'Query performance analysis'],\n",
       "  'common_questions': ['How to handle empty plan digests in TiDB bindings',\n",
       "   'Performance considerations for plan generation',\n",
       "   'Troubleshooting SHOW PLAN FOR SQL command']}}"
      ]
     },
     "execution_count": 7,
     "metadata": {},
     "output_type": "execute_result"
    }
   ],
   "source": [
    "bp.add_pr_review_best_practices(github_pr_url, pr_details.format(\"markdown\"))"
   ]
  },
  {
   "cell_type": "code",
   "execution_count": 5,
   "metadata": {},
   "outputs": [
    {
     "name": "stderr",
     "output_type": "stream",
     "text": [
      "2025-04-01 21:08:05,732 - httpx - INFO - HTTP Request: POST https://api.openai.com/v1/embeddings \"HTTP/1.1 200 OK\"\n"
     ]
    },
    {
     "data": {
      "text/plain": [
       "{'https://github.com/pingcap/tidb/pull/60337': [{'tag': 'database/caching/state_reset',\n",
       "   'guideline': {'confidence': 'high',\n",
       "    'evidence': \"The PR fixes an issue where the stats field wasn't reset when a cached PointGet executor was reused, causing execution info to leak between sessions with different settings.\",\n",
       "    'guidelines': '[Guideline] When implementing cached objects that can be reused across different contexts, ensure all state-dependent fields are properly reset during reinitialization to prevent state leakage between different usage contexts.',\n",
       "    'tag': 'database/caching/state_reset'},\n",
       "   'distance': 0.5748851358342819},\n",
       "  {'tag': 'database/executor/initialization',\n",
       "   'guideline': {'confidence': 'high',\n",
       "    'evidence': \"Reviewer cfzjywxk noted: 'The order here is different from `buildPointGet` in which the `getSnapshot` is called before `Init`, need to ensure there is no implicit order requirement between `Init` and getSnapshot`.' The developer confirmed there was no dependency in this case.\",\n",
       "    'guidelines': '[Hidden Constraint] When modifying executor initialization order in TiDB, verify there are no implicit dependencies between initialization steps (like getSnapshot and Init). Changing the order without understanding these dependencies can cause subtle runtime issues.',\n",
       "    'tag': 'database/executor/initialization'},\n",
       "   'distance': 0.6012035785670075},\n",
       "  {'tag': 'test/regression',\n",
       "   'guideline': {'confidence': 'high',\n",
       "    'evidence': \"Reviewer cfzjywxk suggested: 'Better to have a test case to cover the problem in the issue.' This highlights the importance of having automated tests for specific bug scenarios.\",\n",
       "    'guidelines': '[Guideline] When fixing bugs related to state management or caching, always add regression tests that specifically recreate the conditions that triggered the original issue to prevent future regressions.',\n",
       "    'tag': 'test/regression'},\n",
       "   'distance': 0.7819849030935471}],\n",
       " 'https://github.com/pingcap/tipb/pull/352': [{'tag': 'proto/constants',\n",
       "   'guideline': {'confidence': 'high',\n",
       "    'evidence': \"breezewish: 'whose id is indicated by virtual_distance_col_id → whose id must be -2000'\",\n",
       "    'guidelines': 'When specific constant values are required for protocol buffer fields (like special IDs), document these requirements explicitly in the field comments to ensure consistent implementation across the codebase.',\n",
       "    'tag': 'proto/constants'},\n",
       "   'distance': 0.7244235824052314},\n",
       "  {'tag': 'proto/field/organization',\n",
       "   'guideline': {'confidence': 'high',\n",
       "    'evidence': \"breezewish: 'Please move this after L138 because they are together and this field is already present.' and 'Also, please move it after L138, due to the same reason as above.'\",\n",
       "    'guidelines': 'Group related fields together in protocol buffer definitions for better readability and maintenance. When adding new fields that are functionally related to existing ones, place them adjacent to each other in the definition.',\n",
       "    'tag': 'proto/field/organization'},\n",
       "   'distance': 0.733680474851253},\n",
       "  {'tag': 'proto/field/deprecation',\n",
       "   'guideline': {'confidence': 'high',\n",
       "    'evidence': \"breezewish: 'As a deprecated column, please remove `[(gogoproto.nullable) = false]`.' and 'Please review protobuf documentation about how to make changes: https://protobuf.dev/programming-guides/proto3/#updating'\",\n",
       "    'guidelines': \"When deprecating fields in protocol buffers, follow proper deprecation practices: 1) Mark the field as deprecated with the reserved keyword, 2) Keep the field number reserved, 3) Remove any non-nullable constraints from deprecated fields, 4) Add clear documentation about why it's deprecated and what replaces it.\",\n",
       "    'tag': 'proto/field/deprecation'},\n",
       "   'distance': 0.7453556710581499},\n",
       "  {'tag': 'proto/compatibility',\n",
       "   'guideline': {'confidence': 'medium',\n",
       "    'evidence': \"breezewish: 'Why not simply deprecated_column_id()?' in response to a discussion about field naming for compatibility\",\n",
       "    'guidelines': \"When evolving protocol buffer definitions, maintain backward compatibility by using clear field naming conventions for deprecated fields. Consider using explicit naming like 'deprecated_field_name' to make the deprecation obvious in the code.\",\n",
       "    'tag': 'proto/compatibility'},\n",
       "   'distance': 0.7536825628649724},\n",
       "  {'tag': 'proto/documentation',\n",
       "   'guideline': {'confidence': 'high',\n",
       "    'evidence': \"breezewish: 'Please update the comment, because `column` will be always set, with carried type information, no matter or not enable_distance_proj is enabled.' and 'This comment is outdated. A more correct one is that, if enabled, TableScan's schema will not include Vector column at all, .... etc?'\",\n",
       "    'guidelines': 'Ensure protocol buffer field comments are accurate, up-to-date, and clearly explain the purpose and behavior of the field. When behavior changes, update all affected comments to maintain documentation accuracy.',\n",
       "    'tag': 'proto/documentation'},\n",
       "   'distance': 0.781437833866233}]}"
      ]
     },
     "execution_count": 5,
     "metadata": {},
     "output_type": "execute_result"
    }
   ],
   "source": [
    "bp.find_best_practices(\"Refact pointGetExecutor init function to ensure member fields are correctly reset\")"
   ]
  }
 ],
 "metadata": {
  "kernelspec": {
   "display_name": "code_index",
   "language": "python",
   "name": "python3"
  },
  "language_info": {
   "codemirror_mode": {
    "name": "ipython",
    "version": 3
   },
   "file_extension": ".py",
   "mimetype": "text/x-python",
   "name": "python",
   "nbconvert_exporter": "python",
   "pygments_lexer": "ipython3",
   "version": "3.11.11"
  }
 },
 "nbformat": 4,
 "nbformat_minor": 2
}
