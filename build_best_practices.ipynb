{
 "cells": [
  {
   "cell_type": "code",
   "execution_count": 1,
   "metadata": {},
   "outputs": [],
   "source": [
    "from llm.factory import LLMInterface\n",
    "\n",
    "llm_client = LLMInterface(\"bedrock\", \"arn:aws:bedrock:us-east-1:841162690310:inference-profile/us.anthropic.claude-3-7-sonnet-20250219-v1:0\")"
   ]
  },
  {
   "cell_type": "code",
   "execution_count": 2,
   "metadata": {},
   "outputs": [],
   "source": [
    "import os\n",
    "\n",
    "from knowledgebase.best_practices import BestPracticesKnowledgeBase\n",
    "from llm.embedding import get_text_embedding\n",
    "import numpy as np\n",
    "from knowledgebase.pr_reader import GitHubPRReader\n",
    "\n",
    "github_token = os.getenv('GITHUB_TOKEN')\n",
    "if not github_token:\n",
    "    raise ValueError(\"Please set GITHUB_TOKEN environment variable\")\n",
    "\n",
    "def embedding_func(text: str) -> np.ndarray:\n",
    "    return get_text_embedding(text, \"text-embedding-3-small\")\n",
    "\n",
    "bp = BestPracticesKnowledgeBase(llm_client, embedding_func)\n",
    "reader = GitHubPRReader(github_token)"
   ]
  },
  {
   "cell_type": "code",
   "execution_count": null,
   "metadata": {},
   "outputs": [],
   "source": [
    "github_pr_url = \"https://github.com/pingcap/tidb/pull/57307\"\n",
    "\n",
    "pr_details = reader.get_pr_details(github_pr_url)\n",
    "print(pr_details.format())"
   ]
  },
  {
   "cell_type": "code",
   "execution_count": null,
   "metadata": {},
   "outputs": [],
   "source": [
    "bp.add_pr_review_best_practices(github_pr_url, pr_details.format(\"markdown\"), commit=True)"
   ]
  },
  {
   "cell_type": "code",
   "execution_count": 3,
   "metadata": {},
   "outputs": [],
   "source": [
    "github_file_url = \"https://github.com/protocolbuffers/protocolbuffers.github.io/blob/main/content/programming-guides/style.md\"\n",
    "content = reader.read_github_file(github_file_url)"
   ]
  },
  {
   "cell_type": "code",
   "execution_count": 4,
   "metadata": {},
   "outputs": [
    {
     "name": "stdout",
     "output_type": "stream",
     "text": [
      "insert best practice: {'tag': 'protobuf/style_guide', 'summary': 'Part 1: A comprehensive style guide for .proto files that establishes conventions for file structure, naming patterns, and best practices to ensure consistency and readability across protocol buffer definitions.\\n\\nPart 2: Key recommendations include: using lower_snake_case for file names and fields; TitleCase for messages, services and enums; UPPER_SNAKE_CASE for enum values; avoiding underscores at start/end of identifiers; structuring files in a specific order (license, overview, syntax, package, imports, options); prefixing enum values with enum name; avoiding required fields and groups; and ensuring the first enum value is zero with _UNSPECIFIED suffix.'}\n"
     ]
    },
    {
     "name": "stderr",
     "output_type": "stream",
     "text": [
      "2025-04-04 18:19:29,695 - httpx - INFO - HTTP Request: POST https://api.openai.com/v1/embeddings \"HTTP/1.1 200 OK\"\n"
     ]
    },
    {
     "data": {
      "text/plain": [
       "{'tag': 'protobuf/style_guide',\n",
       " 'summary': 'Part 1: A comprehensive style guide for .proto files that establishes conventions for file structure, naming patterns, and best practices to ensure consistency and readability across protocol buffer definitions.\\n\\nPart 2: Key recommendations include: using lower_snake_case for file names and fields; TitleCase for messages, services and enums; UPPER_SNAKE_CASE for enum values; avoiding underscores at start/end of identifiers; structuring files in a specific order (license, overview, syntax, package, imports, options); prefixing enum values with enum name; avoiding required fields and groups; and ensuring the first enum value is zero with _UNSPECIFIED suffix.'}"
      ]
     },
     "execution_count": 4,
     "metadata": {},
     "output_type": "execute_result"
    }
   ],
   "source": [
    "bp.add_external_best_practices(github_file_url, content, commit=True)"
   ]
  },
  {
   "cell_type": "code",
   "execution_count": 5,
   "metadata": {},
   "outputs": [
    {
     "name": "stderr",
     "output_type": "stream",
     "text": [
      "2025-04-04 18:19:35,121 - httpx - INFO - HTTP Request: POST https://api.openai.com/v1/embeddings \"HTTP/1.1 200 OK\"\n"
     ]
    },
    {
     "data": {
      "text/plain": [
       "{'https://github.com/pingcap/tipb/pull/352': [{'tag': 'proto/field/deprecation',\n",
       "   'guideline': {'confidence': 'high',\n",
       "    'evidence': \"breezewish: 'As a deprecated column, please remove `[(gogoproto.nullable) = false]`.' and 'Please review protobuf documentation about how to make changes: https://protobuf.dev/programming-guides/proto3/#updating'\",\n",
       "    'guidelines': \"When deprecating fields in protocol buffers, follow proper deprecation practices: 1) Mark the field as deprecated with the reserved keyword, 2) Keep the field number reserved, 3) Remove any non-nullable constraints from deprecated fields, 4) Add clear documentation about why it's deprecated and what replaces it.\",\n",
       "    'tag': 'proto/field/deprecation'},\n",
       "   'distance': 0.5409894087289281},\n",
       "  {'tag': 'proto/documentation',\n",
       "   'guideline': {'confidence': 'high',\n",
       "    'evidence': \"breezewish: 'Please update the comment, because `column` will be always set, with carried type information, no matter or not enable_distance_proj is enabled.' and 'This comment is outdated. A more correct one is that, if enabled, TableScan's schema will not include Vector column at all, .... etc?'\",\n",
       "    'guidelines': 'Ensure protocol buffer field comments are accurate, up-to-date, and clearly explain the purpose and behavior of the field. When behavior changes, update all affected comments to maintain documentation accuracy.',\n",
       "    'tag': 'proto/documentation'},\n",
       "   'distance': 0.546134881099294},\n",
       "  {'tag': 'proto/compatibility',\n",
       "   'guideline': {'confidence': 'medium',\n",
       "    'evidence': \"breezewish: 'Why not simply deprecated_column_id()?' in response to a discussion about field naming for compatibility\",\n",
       "    'guidelines': \"When evolving protocol buffer definitions, maintain backward compatibility by using clear field naming conventions for deprecated fields. Consider using explicit naming like 'deprecated_field_name' to make the deprecation obvious in the code.\",\n",
       "    'tag': 'proto/compatibility'},\n",
       "   'distance': 0.6277789778182394},\n",
       "  {'tag': 'proto/constants',\n",
       "   'guideline': {'confidence': 'high',\n",
       "    'evidence': \"breezewish: 'whose id is indicated by virtual_distance_col_id → whose id must be -2000'\",\n",
       "    'guidelines': 'When specific constant values are required for protocol buffer fields (like special IDs), document these requirements explicitly in the field comments to ensure consistent implementation across the codebase.',\n",
       "    'tag': 'proto/constants'},\n",
       "   'distance': 0.6374710641645721},\n",
       "  {'tag': 'proto/field/organization',\n",
       "   'guideline': {'confidence': 'high',\n",
       "    'evidence': \"breezewish: 'Please move this after L138 because they are together and this field is already present.' and 'Also, please move it after L138, due to the same reason as above.'\",\n",
       "    'guidelines': 'Group related fields together in protocol buffer definitions for better readability and maintenance. When adding new fields that are functionally related to existing ones, place them adjacent to each other in the definition.',\n",
       "    'tag': 'proto/field/organization'},\n",
       "   'distance': 0.6689914765052326}],\n",
       " 'https://github.com/protocolbuffers/protocolbuffers.github.io/blob/main/content/programming-guides/style.md': [{'tag': 'protobuf/style_guide',\n",
       "   'guideline': '+++\\ntitle = \"Style Guide\"\\nweight = 50\\ndescription = \"Provides direction for how best to structure your proto definitions.\"\\ntype = \"docs\"\\n+++\\n\\nThis document provides a style guide for `.proto` files. By following these\\nconventions, you\\'ll make your protocol buffer message definitions and their\\ncorresponding classes consistent and easy to read.\\n\\n## Standard File Formatting {#standard-file-formatting}\\n\\n*   Keep the line length to 80 characters.\\n*   Use an indent of 2 spaces.\\n*   Prefer the use of double quotes for strings.\\n\\n## File Structure {#file-structure}\\n\\nFiles should be named `lower_snake_case.proto`.\\n\\nAll files should be ordered in the following manner:\\n\\n1.  License header (if applicable)\\n1.  File overview\\n1.  Syntax\\n1.  Package\\n1.  Imports (sorted)\\n1.  File options\\n1.  Everything else\\n\\n## Identifier naming styles {#identifier}\\n\\nProtobuf identifiers use one of the following naming styles:\\n\\n1.  TitleCase\\n    *   Contains uppercase letters, lowercase letters, and numbers\\n    *   The initial character is an uppercase letter\\n    *   The initial letter of each word is capitalized\\n1.  lower_snake_case\\n    *   Contains lowercase letters, underscores, and numbers\\n    *   Words are separated by a single underscore\\n1.  UPPER_SNAKE_CASE\\n    *   Contains uppercase letters, underscores, and numbers\\n    *   Words are separated by a single underscore\\n1.  camelCase\\n    *   Contains uppercase letters, lowercase letters, and numbers\\n    *   The initial character is an lowercase letter\\n    *   The initial letter of each subsequent word is capitalized\\n    *   **Note:** The style guide below does not use camelCase for any\\n        identifier in .proto files; the terminology is only clarified here since\\n        some language\\'s generated code may transform identifiers into this\\n        style.\\n\\nIn all cases, treat abbreviations as though they are single words: use\\n`GetDnsRequest` rather than `GetDNSRequest`, `dns_request` rather than\\n`d_n_s_request`.\\n\\n#### Underscores in Identifiers {#underscores}\\n\\nDon\\'t use underscores as the initial or final character of a name. Any\\nunderscore should always be followed by a letter (not a number or a second\\nunderscore).\\n\\nThe motivation for this rule is that each protobuf language implementation may\\nconvert identifiers into the local language style: a name of `song_id` in a\\n.proto file may end up having accessors for the field which are capitalized as\\nas `SongId`, `songId` or `song_id` depending on the language.\\n\\nBy using underscores only before letters, it avoids situations where names may\\nbe distinct in one style, but would collide after they are transformed into one\\nof the other styles.\\n\\nFor example, both `DNS2` and `DNS_2` would both transform into TitleCase as\\n`Dns2`. Allowing either of those names can be lead to painful situations when a\\nmessage is used only in some languages where the generated code keeps the\\noriginal UPPER_SNAKE_CASE style, becomes widely established, and then is only\\nlater used in a language where names are transformed to TitleCase where they\\ncollide.\\n\\nWhen applied, this style rule means that you should use `XYZ2` or `XYZ_V2`\\nrather than `XYZ_2` or `XYZ_2V`.\\n\\n## Packages {#packages}\\n\\nUse dot-delimited lower_snake_case names as package names.\\n\\nMulti-word package names may be lower_snake_case or dot.delimited (dot-delimited\\npackage names are emitted as nested packages/namespaces in most languages).\\n\\nPackage names should attempt to be a short but unique name based on the project\\nname. Package names should not be Java packages (`com.x.y`); instead use `x.y`\\nas the package and use the `java_package` option as needed.\\n\\n## Message Names {#message-names}\\n\\nUse TitleCase for message names.\\n\\n```proto\\nmessage SongRequest {\\n}\\n```\\n\\n## Field Names {#field-names}\\n\\nUse snake_case for field names, including extensions.\\n\\nUse pluralized names for repeated fields.\\n\\n```proto\\nstring song_name = 1;\\nrepeated Song songs = 2;\\n```\\n\\n## Oneof Names {#oneof-names}\\n\\nUse lower_snake_case for oneof names.\\n\\n```proto\\noneof song_id {\\n  string song_human_readable_id = 1;\\n  int64 song_machine_id = 2;\\n}\\n```\\n\\n## Enums {#enums}\\n\\nUse TitleCase for enum type names.\\n\\nUse UPPER_SNAKE_CASE for enum value names.\\n\\n```proto\\nenum FooBar {\\n  FOO_BAR_UNSPECIFIED = 0;\\n  FOO_BAR_FIRST_VALUE = 1;\\n  FOO_BAR_SECOND_VALUE = 2;\\n}\\n```\\n\\nThe first listed value should be a zero value enum and have the suffix of either\\n`_UNSPECIFIED` or `_UNKNOWN`. This value may be used as an unknown/default value\\nand should be distinct from any of the semantic values you expect to be\\nexplicitly set. For more information on the unspecified enum value, see\\n[the Proto Best Practices page](/best-practices/dos-donts#unspecified-enum).\\n\\n#### Enum Value Prefixing {#enum-value-prefixing}\\n\\nEnum values are semantically considered to not be scoped by their containing\\nenum name, so the same name in two sibling enums is not allowed. For example,\\nthe following would be rejected by protoc since the `SET` value defined in the\\ntwo enums are considered to be in the same scope:\\n\\n```proto\\nenum CollectionType {\\n  COLLECTION_TYPE_UNSPECIFIED = 0;\\n  SET = 1;\\n  MAP = 2;\\n  ARRAY = 3;\\n}\\n\\nenum TennisVictoryType {\\n  TENNIS_VICTORY_TYPE_UNSPECIFIED = 0;\\n  GAME = 1;\\n  SET = 2;\\n  MATCH = 3;\\n}\\n```\\n\\nName collisions are a high risk when enums are defined at the top level of a\\nfile (not nested inside a message definition); in that case the siblings include\\nenums defined in other files that set the same package, where protoc may not be\\nable to detect the collision has occurred at code generation time.\\n\\nTo avoid these risks, it is strongly recommended to do one of:\\n\\n*   Prefix every value with the enum name (converted to UPPER_SNAKE_CASE)\\n*   Nest the enum inside a containing message\\n\\nEither option is enough to mitigate collision risks, but prefer top-level enums\\nwith prefixed values over creating a message simply to mitigate the issue. Since\\nsome languages don\\'t support an enum being defined inside a \"struct\" type,\\npreferring prefixed values ensures a consistent approach across binding\\nlanguages.\\n\\n## Services {#services}\\n\\nUse TitleCase for service names and method names.\\n\\n```proto\\nservice FooService {\\n  rpc GetSomething(GetSomethingRequest) returns (GetSomethingResponse);\\n  rpc ListSomething(ListSomethingRequest) returns (ListSomethingResponse);\\n}\\n```\\n\\nFor more service-related guidance, see\\n[Create Unique Protos per Method](/best-practices/api#unique-protos)\\nand\\n[Don\\'t Include Primitive Types in a Top-level Request or Response Proto](/programming-guides/api#dont-include-primitive-types)\\nin the API Best Practices topic, and\\n[Define Message Types in Separate Files](/best-practices/dos-donts#separate-files)\\nin Proto Best Practices.\\n\\n## Things to Avoid {#avoid}\\n\\n### Required Fields {#required}\\n\\nRequired fields are a way to enforce that a given field must be set when parsing\\nwire bytes, and otherwise refuse to parse the message. The required invariant is\\ngenerally not enforced on messages constructed in memory. Required fields were\\nremoved in proto3.\\n\\nWhile enforcement of required fields at the schema level is intuitively\\ndesirable, one of the primary design goals of protobuf is to support long term\\nschema evolution. No matter how obviously required a given field seems to be\\ntoday, there is a plausible future where the field should no longer be set (e.g.\\nan `int64 user_id` may need to migrate to a `UserId user_id` in the future).\\n\\nEspecially in the case of middleware servers that may forward messages that they\\ndon\\'t really need to process, the semantics of `required` has proven too harmful\\nfor those long-term evolution goals, and so is now very strongly discouraged.\\n\\nSee\\n[Required is Strongly Deprecated](/programming-guides/proto2#required-deprecated).\\n\\n### Groups {#groups}\\n\\nGroups is an alternate syntax and wire format for nested messages. Groups are\\nconsidered deprecated in proto2 and were removed from proto3. You should use a\\nnested message definition and field of that type instead of using the group\\nsyntax.\\n\\nSee [groups](/programming-guides/proto2#groups).\\n',\n",
       "   'distance': 0.544477698215811}],\n",
       " 'https://github.com/pingcap/tidb/pull/59607': [{'tag': 'architecture/package_organization',\n",
       "   'guideline': {'confidence': 'high',\n",
       "    'evidence': 'The PR moves NodeResource from package taskexecutor to proto, which was accepted by reviewers. This architectural change improves the package organization by placing shared types in a more foundational package.',\n",
       "    'guidelines': '[Package Dependency Design] When moving types between packages, consider the dependency direction. Types that are used by multiple components should be placed in packages that are lower in the dependency hierarchy (like proto packages) to avoid circular dependencies.',\n",
       "    'tag': 'architecture/package_organization'},\n",
       "   'distance': 0.6617089088958965}],\n",
       " 'https://github.com/tikv/tikv/pull/18210': [{'tag': 'architecture/backward_compatibility',\n",
       "   'guideline': {'confidence': 'high',\n",
       "    'evidence': \"PR author explained that 'The constant `TRANSFER_LEADER_COMMAND_REPLY_CTX` is kept on purpose, it is used to test the compatibility' when a reviewer suggested renaming it.\",\n",
       "    'guidelines': \"When refactoring communication protocols in distributed systems, maintain backward compatibility by preserving constant names and values that are used for message identification, especially when they're part of inter-node communication.\",\n",
       "    'tag': 'architecture/backward_compatibility'},\n",
       "   'distance': 0.6680480240540446}]}"
      ]
     },
     "execution_count": 5,
     "metadata": {},
     "output_type": "execute_result"
    }
   ],
   "source": [
    "bp.find_best_practices(\"How to update protobuf\")"
   ]
  }
 ],
 "metadata": {
  "kernelspec": {
   "display_name": "code_graph",
   "language": "python",
   "name": "python3"
  },
  "language_info": {
   "codemirror_mode": {
    "name": "ipython",
    "version": 3
   },
   "file_extension": ".py",
   "mimetype": "text/x-python",
   "name": "python",
   "nbconvert_exporter": "python",
   "pygments_lexer": "ipython3",
   "version": "3.12.9"
  }
 },
 "nbformat": 4,
 "nbformat_minor": 2
}
