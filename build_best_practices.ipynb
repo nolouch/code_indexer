{
 "cells": [
  {
   "cell_type": "code",
   "execution_count": 1,
   "metadata": {},
   "outputs": [],
   "source": [
    "from llm.factory import LLMInterface\n",
    "\n",
    "llm_client = LLMInterface(\"bedrock\", \"arn:aws:bedrock:us-east-1:841162690310:inference-profile/us.anthropic.claude-3-7-sonnet-20250219-v1:0\")"
   ]
  },
  {
   "cell_type": "code",
   "execution_count": 2,
   "metadata": {},
   "outputs": [],
   "source": [
    "import os\n",
    "\n",
    "from knowledgebase.best_practices import BestPracticesKnowledgeBase\n",
    "from llm.embedding import get_text_embedding\n",
    "import numpy as np\n",
    "from knowledgebase.pr_reader import GitHubPRReader\n",
    "\n",
    "github_token = os.getenv('GITHUB_TOKEN')\n",
    "if not github_token:\n",
    "    raise ValueError(\"Please set GITHUB_TOKEN environment variable\")\n",
    "\n",
    "def embedding_func(text: str) -> np.ndarray:\n",
    "    return get_text_embedding(text, \"text-embedding-3-small\")\n",
    "\n",
    "bp = BestPracticesKnowledgeBase(llm_client, embedding_func)\n",
    "reader = GitHubPRReader(github_token)"
   ]
  },
  {
   "cell_type": "code",
   "execution_count": 3,
   "metadata": {},
   "outputs": [],
   "source": [
    "github_pr_url = \"https://github.com/pingcap/tipb/pull/352\""
   ]
  },
  {
   "cell_type": "code",
   "execution_count": 4,
   "metadata": {},
   "outputs": [
    {
     "ename": "ValueError",
     "evalue": "Best practices already exist for source_id: https://github.com/pingcap/tipb/pull/352",
     "output_type": "error",
     "traceback": [
      "\u001b[31m---------------------------------------------------------------------------\u001b[39m",
      "\u001b[31mValueError\u001b[39m                                Traceback (most recent call last)",
      "\u001b[36mCell\u001b[39m\u001b[36m \u001b[39m\u001b[32mIn[4]\u001b[39m\u001b[32m, line 2\u001b[39m\n\u001b[32m      1\u001b[39m pr_details = reader.get_pr_details(github_pr_url)\n\u001b[32m----> \u001b[39m\u001b[32m2\u001b[39m \u001b[43mbp\u001b[49m\u001b[43m.\u001b[49m\u001b[43madd_pr_review_best_practices\u001b[49m\u001b[43m(\u001b[49m\u001b[43mgithub_pr_url\u001b[49m\u001b[43m,\u001b[49m\u001b[43m \u001b[49m\u001b[43mpr_details\u001b[49m\u001b[43m.\u001b[49m\u001b[43mformat\u001b[49m\u001b[43m(\u001b[49m\u001b[33;43m\"\u001b[39;49m\u001b[33;43mmarkdown\u001b[39;49m\u001b[33;43m\"\u001b[39;49m\u001b[43m)\u001b[49m\u001b[43m)\u001b[49m\n",
      "\u001b[36mFile \u001b[39m\u001b[32m~/Work/code_indexer/knowledgebase/best_practices.py:73\u001b[39m, in \u001b[36mBestPracticesKnowledgeBase.add_pr_review_best_practices\u001b[39m\u001b[34m(self, source_id, content)\u001b[39m\n\u001b[32m     71\u001b[39m     bps = session.query(BestPractice).filter_by(source_id=source_id).all()\n\u001b[32m     72\u001b[39m     \u001b[38;5;28;01mif\u001b[39;00m bps:\n\u001b[32m---> \u001b[39m\u001b[32m73\u001b[39m         \u001b[38;5;28;01mraise\u001b[39;00m \u001b[38;5;167;01mValueError\u001b[39;00m(\u001b[33mf\u001b[39m\u001b[33m\"\u001b[39m\u001b[33mBest practices already exist for source_id: \u001b[39m\u001b[38;5;132;01m{\u001b[39;00msource_id\u001b[38;5;132;01m}\u001b[39;00m\u001b[33m\"\u001b[39m)\n\u001b[32m     75\u001b[39m prompt = gen_pr_review_best_practices_prompt.format(\n\u001b[32m     76\u001b[39m     pr_review_comments=content\n\u001b[32m     77\u001b[39m )\n\u001b[32m     79\u001b[39m \u001b[38;5;66;03m# Call LLM to get classification\u001b[39;00m\n",
      "\u001b[31mValueError\u001b[39m: Best practices already exist for source_id: https://github.com/pingcap/tipb/pull/352"
     ]
    }
   ],
   "source": [
    "pr_details = reader.get_pr_details(github_pr_url)\n",
    "bp.add_pr_review_best_practices(github_pr_url, pr_details.format(\"markdown\"))"
   ]
  },
  {
   "cell_type": "code",
   "execution_count": 5,
   "metadata": {},
   "outputs": [
    {
     "name": "stderr",
     "output_type": "stream",
     "text": [
      "2025-04-01 20:31:31,293 - httpx - INFO - HTTP Request: POST https://api.openai.com/v1/embeddings \"HTTP/1.1 200 OK\"\n"
     ]
    },
    {
     "data": {
      "text/plain": [
       "{'https://github.com/pingcap/tipb/pull/352': [{'tag': 'proto/field/deprecation',\n",
       "   'guideline': {'confidence': 'high',\n",
       "    'evidence': \"breezewish: 'As a deprecated column, please remove `[(gogoproto.nullable) = false]`.' and 'Please review protobuf documentation about how to make changes: https://protobuf.dev/programming-guides/proto3/#updating'\",\n",
       "    'guidelines': \"When deprecating fields in protocol buffers, follow proper deprecation practices: 1) Mark the field as deprecated with the reserved keyword, 2) Keep the field number reserved, 3) Remove any non-nullable constraints from deprecated fields, 4) Add clear documentation about why it's deprecated and what replaces it.\",\n",
       "    'tag': 'proto/field/deprecation'},\n",
       "   'distance': 0.5256477407145126},\n",
       "  {'tag': 'proto/documentation',\n",
       "   'guideline': {'confidence': 'high',\n",
       "    'evidence': \"breezewish: 'Please update the comment, because `column` will be always set, with carried type information, no matter or not enable_distance_proj is enabled.' and 'This comment is outdated. A more correct one is that, if enabled, TableScan's schema will not include Vector column at all, .... etc?'\",\n",
       "    'guidelines': 'Ensure protocol buffer field comments are accurate, up-to-date, and clearly explain the purpose and behavior of the field. When behavior changes, update all affected comments to maintain documentation accuracy.',\n",
       "    'tag': 'proto/documentation'},\n",
       "   'distance': 0.5340734500135136},\n",
       "  {'tag': 'proto/compatibility',\n",
       "   'guideline': {'confidence': 'medium',\n",
       "    'evidence': \"breezewish: 'Why not simply deprecated_column_id()?' in response to a discussion about field naming for compatibility\",\n",
       "    'guidelines': \"When evolving protocol buffer definitions, maintain backward compatibility by using clear field naming conventions for deprecated fields. Consider using explicit naming like 'deprecated_field_name' to make the deprecation obvious in the code.\",\n",
       "    'tag': 'proto/compatibility'},\n",
       "   'distance': 0.6042101078911821},\n",
       "  {'tag': 'proto/constants',\n",
       "   'guideline': {'confidence': 'high',\n",
       "    'evidence': \"breezewish: 'whose id is indicated by virtual_distance_col_id → whose id must be -2000'\",\n",
       "    'guidelines': 'When specific constant values are required for protocol buffer fields (like special IDs), document these requirements explicitly in the field comments to ensure consistent implementation across the codebase.',\n",
       "    'tag': 'proto/constants'},\n",
       "   'distance': 0.6087614492345884},\n",
       "  {'tag': 'proto/field/organization',\n",
       "   'guideline': {'confidence': 'high',\n",
       "    'evidence': \"breezewish: 'Please move this after L138 because they are together and this field is already present.' and 'Also, please move it after L138, due to the same reason as above.'\",\n",
       "    'guidelines': 'Group related fields together in protocol buffer definitions for better readability and maintenance. When adding new fields that are functionally related to existing ones, place them adjacent to each other in the definition.',\n",
       "    'tag': 'proto/field/organization'},\n",
       "   'distance': 0.6344305879253928}]}"
      ]
     },
     "execution_count": 5,
     "metadata": {},
     "output_type": "execute_result"
    }
   ],
   "source": [
    "bp.find_best_practices(\"how to update protobuf definition\")"
   ]
  }
 ],
 "metadata": {
  "kernelspec": {
   "display_name": "code_index",
   "language": "python",
   "name": "python3"
  },
  "language_info": {
   "codemirror_mode": {
    "name": "ipython",
    "version": 3
   },
   "file_extension": ".py",
   "mimetype": "text/x-python",
   "name": "python",
   "nbconvert_exporter": "python",
   "pygments_lexer": "ipython3",
   "version": "3.11.11"
  }
 },
 "nbformat": 4,
 "nbformat_minor": 2
}
