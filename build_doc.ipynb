{
 "cells": [
  {
   "cell_type": "code",
   "execution_count": 1,
   "metadata": {},
   "outputs": [],
   "source": [
    "from llm.factory import LLMInterface\n",
    "from setting.db import SessionLocal\n",
    "from llm.embedding import get_text_embedding\n",
    "\n",
    "# llm_client = LLMInterface(\"bedrock\", \"us.deepseek.r1-v1:0\")\n",
    "llm_client = LLMInterface(\"bedrock\", \"arn:aws:bedrock:us-east-1:841162690310:inference-profile/us.anthropic.claude-3-7-sonnet-20250219-v1:0\")"
   ]
  },
  {
   "cell_type": "code",
   "execution_count": 2,
   "metadata": {},
   "outputs": [
    {
     "name": "stdout",
     "output_type": "stream",
     "text": [
      "Source data created for ../graph/docs/programming-guides/proto3.md, id: 175f314b-0650-4ede-a874-da84621193de\n"
     ]
    }
   ],
   "source": [
    "from knowledgebase.doc_builder import DocBuilder\n",
    "\n",
    "doc_builder = DocBuilder(llm_client, get_text_embedding)\n",
    "\n",
    "sections = doc_builder.split_markdown_by_heading(\"../graph/docs/programming-guides/proto3.md\", {\n",
    "    \"doc_version\": \"1.0\",\n",
    "    \"category\": \"Programming Guides\",\n",
    "})"
   ]
  },
  {
   "cell_type": "code",
   "execution_count": null,
   "metadata": {},
   "outputs": [],
   "source": [
    "doc_builder.analyze_concepts()"
   ]
  },
  {
   "cell_type": "code",
   "execution_count": 5,
   "metadata": {},
   "outputs": [],
   "source": [
    "from knowledgebase.doc_model import KnowledgeBlock\n",
    "from setting.db import SessionLocal\n",
    "from llm.embedding import get_text_embedding\n",
    "from sqlalchemy.orm import aliased, defer, joinedload\n",
    "from sqlalchemy import or_, asc\n",
    "\n",
    "query_vector = get_text_embedding(\"How to update protobufmessage definition\")\n",
    "\n",
    "with SessionLocal() as db:\n",
    "    blocks = db.query(\n",
    "        KnowledgeBlock.name,\n",
    "        KnowledgeBlock.content,\n",
    "        KnowledgeBlock.content_vec.cosine_distance(\n",
    "            query_vector\n",
    "        ).label(\"embedding_distance\"),\n",
    "    ).order_by(asc(\"embedding_distance\")).limit(3).all()"
   ]
  },
  {
   "cell_type": "code",
   "execution_count": 6,
   "metadata": {},
   "outputs": [
    {
     "name": "stdout",
     "output_type": "stream",
     "text": [
      "('Defining A Message Type {#simple}', '## Defining A Message Type {#simple}\\n\\nFirst let\\'s look at a very simple example. Let\\'s say you want to define a search\\nrequest message format, w ... (13192 characters truncated) ... s for each language by following the\\ntutorial for your chosen language. For even more API\\ndetails, see the relevant [API reference](/reference/).\\n', 0.5181685873025583)\n",
      "('Updating A Message Type {#updating}', '## Updating A Message Type {#updating}\\n\\nIf an existing message type no longer meets all your needs – for example, you\\'d\\nlike the message format t ... (4727 characters truncated) ... emantically\\n    identical result; however, clients using the `map` field definition may\\n    reorder entries and drop entries with duplicate keys.\\n', 0.5294359869773335)\n",
      "('Using Other Message Types {#other}', '## Using Other Message Types {#other}\\n\\nYou can use other message types as field types. For example, let\\'s say you\\nwanted to include `Result` mess ... (2409 characters truncated) ... o3 messages, and vice versa. However, proto2 enums cannot\\nbe used directly in proto3 syntax (it\\'s okay if an imported proto2 message uses\\nthem).\\n', 0.5374140196111272)\n"
     ]
    }
   ],
   "source": [
    "for block in blocks:\n",
    "    print(block)"
   ]
  }
 ],
 "metadata": {
  "kernelspec": {
   "display_name": "code_graph",
   "language": "python",
   "name": "python3"
  },
  "language_info": {
   "codemirror_mode": {
    "name": "ipython",
    "version": 3
   },
   "file_extension": ".py",
   "mimetype": "text/x-python",
   "name": "python",
   "nbconvert_exporter": "python",
   "pygments_lexer": "ipython3",
   "version": "3.12.9"
  }
 },
 "nbformat": 4,
 "nbformat_minor": 2
}
