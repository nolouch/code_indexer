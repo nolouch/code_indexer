{
 "cells": [
  {
   "cell_type": "code",
   "execution_count": 1,
   "metadata": {},
   "outputs": [],
   "source": [
    "from llm.factory import LLMInterface\n",
    "from setting.db import SessionLocal\n",
    "from llm.embedding import get_text_embedding\n",
    "\n",
    "# llm_client = LLMInterface(\"bedrock\", \"us.deepseek.r1-v1:0\")\n",
    "llm_client = LLMInterface(\"bedrock\", \"arn:aws:bedrock:us-east-1:841162690310:inference-profile/us.anthropic.claude-3-7-sonnet-20250219-v1:0\")"
   ]
  },
  {
   "cell_type": "code",
   "execution_count": 2,
   "metadata": {},
   "outputs": [],
   "source": [
    "from knowledgebase.doc_builder import DocBuilder\n",
    "\n",
    "doc_builder = DocBuilder(llm_client, get_text_embedding)"
   ]
  },
  {
   "cell_type": "code",
   "execution_count": null,
   "metadata": {},
   "outputs": [],
   "source": [
    "sections = doc_builder.split_markdown_by_heading(\"../graph/docs/programming-guides/proto3.md\", {\n",
    "    \"doc_version\": \"1.0\",\n",
    "    \"category\": \"Programming Guides\",\n",
    "})"
   ]
  },
  {
   "cell_type": "code",
   "execution_count": null,
   "metadata": {},
   "outputs": [],
   "source": [
    "from knowledgebase.doc_model import KnowledgeBlock\n",
    "\n",
    "from sqlalchemy.orm import joinedload\n",
    "\n",
    "extend_blocks = []\n",
    "with SessionLocal() as db:\n",
    "    # Query for complete entities\n",
    "    blocks = db.query(KnowledgeBlock).options(\n",
    "        joinedload(KnowledgeBlock.source)\n",
    "    ).all()\n",
    "    \n",
    "\n",
    "    # Now you can access all attributes\n",
    "    for block in blocks:\n",
    "        extend_blocks.append({\n",
    "            'id': block.id,\n",
    "            'name': block.name,\n",
    "            'content': block.content,\n",
    "            'source_content': block.source.content\n",
    "        })\n",
    "\n",
    "contexts = doc_builder.agument_block_context(extend_blocks)\n",
    "contexts\n"
   ]
  },
  {
   "cell_type": "code",
   "execution_count": 5,
   "metadata": {},
   "outputs": [
    {
     "data": {
      "text/plain": [
       "[('Generating Your Classes {#generating}', \"## Generating Your Classes {#generating}\\n\\nTo generate the Java, Kotlin, Python, C++, Go, Ruby, Objective-C, or C# code\\nthat you need to work with  ... (3091 characters truncated) ... ative to the\\n    current directory, each file must reside in one of the `IMPORT_PATH`s so\\n    that the compiler can determine its canonical name.\\n\", 0.49616014682773024, 0.4912048719407047, 0.49417803687292),\n",
       " ('File location {#location}', \"## File location {#location}\\n\\nPrefer not to put `.proto` files in the same\\ndirectory as other language sources. Consider\\ncreating a subpackage `p ... (438 characters truncated) ... \\n`//myteam/mypackage`.\\n\\nThe exception to this rule is when it's clear that the protos will be used only\\nin a Java context, such as for testing.\\n\", 0.5525500028862514, 0.4686088058170843, 0.5189735240585845),\n",
       " ('default', '## default\\n+++\\ntitle = \"Language Guide (proto 3)\"\\nweight = 40\\ndescription = \"Covers how to use the proto3 revision of the Protocol Buffers langua ... (573 characters truncated) ... a step by step example that uses many of the\\nfeatures described in this document, see the\\n[tutorial](/getting-started)\\nfor your chosen language.\\n', 0.5378100914587751, 0.5755252177692876, 0.5528961419829801),\n",
       " ('Defining A Message Type {#simple}', '## Defining A Message Type {#simple}\\n\\nFirst let\\'s look at a very simple example. Let\\'s say you want to define a search\\nrequest message format, w ... (13192 characters truncated) ... s for each language by following the\\ntutorial for your chosen language. For even more API\\ndetails, see the relevant [API reference](/reference/).\\n', 0.5500556052194724, 0.5658832714491706, 0.5563866717113517),\n",
       " ('Using Other Message Types {#other}', '## Using Other Message Types {#other}\\n\\nYou can use other message types as field types. For example, let\\'s say you\\nwanted to include `Result` mess ... (2409 characters truncated) ... o3 messages, and vice versa. However, proto2 enums cannot\\nbe used directly in proto3 syntax (it\\'s okay if an imported proto2 message uses\\nthem).\\n', 0.5851810400130608, 0.529110042352841, 0.5627526409489729),\n",
       " ('Updating A Message Type {#updating}', '## Updating A Message Type {#updating}\\n\\nIf an existing message type no longer meets all your needs – for example, you\\'d\\nlike the message format t ... (4727 characters truncated) ... emantically\\n    identical result; however, clients using the `map` field definition may\\n    reorder entries and drop entries with duplicate keys.\\n', 0.6014201349406747, 0.5145580736716497, 0.5666753104330647),\n",
       " ('JSON Mapping {#json}', '## JSON Mapping {#json}\\n\\nThe standard protobuf binary wire format is the preferred serialization format\\nfor communication between two systems that ... (25 characters truncated) ... nicating with\\nsystems that use JSON rather than protobuf wire format, Protobuf supports a\\ncanonical encoding in [JSON](/programming-guides/json).\\n', 0.5584042621641057, 0.63466385753827, 0.5889081003137714),\n",
       " ('Options {#options}', '## Options {#options}\\n\\nIndividual declarations in a `.proto` file can be annotated with a number of\\n*options*. Options do not change the overall m ... (12378 characters truncated) ... um {\\n  MY_ENUM_UNSPECIFIED = 0;\\n  // Error: file_only_option cannot be set on an enum.\\n  option (enum_options).file_only_option = \"xyz\";\\n}\\n```\\n', 0.6348445566283787, 0.5409218776034239, 0.5972754850183968),\n",
       " ('Packages {#packages}', '## Packages {#packages}\\n\\nYou can add an optional `package` specifier to a `.proto` file to prevent name\\nclashes between protocol message types.\\n\\ ... (2539 characters truncated) ... ed\\n`.proto` files. The code generator for each language knows how to refer to each\\ntype in that language, even if it has different scoping rules.\\n', 0.5813145457045439, 0.6217475993540393, 0.597487767164342),\n",
       " ('Defining Services {#services}', \"## Defining Services {#services}\\n\\nIf you want to use your message types with an RPC (Remote Procedure Call)\\nsystem, you can define an RPC service  ... (1124 characters truncated) ...  to projects we know\\nabout, see the\\n[third-party add-ons wiki page](https://github.com/protocolbuffers/protobuf/blob/master/docs/third_party.md).\\n\", 0.6360974959047067, 0.6384180245424136, 0.6370257073597894)]"
      ]
     },
     "execution_count": 5,
     "metadata": {},
     "output_type": "execute_result"
    }
   ],
   "source": [
    "from knowledgebase.doc_search import search_knowledge_blocks\n",
    "\n",
    "search_knowledge_blocks(\"How to update protobuf file?\", context_weight=0.6)"
   ]
  }
 ],
 "metadata": {
  "kernelspec": {
   "display_name": "code_graph",
   "language": "python",
   "name": "python3"
  },
  "language_info": {
   "codemirror_mode": {
    "name": "ipython",
    "version": 3
   },
   "file_extension": ".py",
   "mimetype": "text/x-python",
   "name": "python",
   "nbconvert_exporter": "python",
   "pygments_lexer": "ipython3",
   "version": "3.12.9"
  }
 },
 "nbformat": 4,
 "nbformat_minor": 2
}
