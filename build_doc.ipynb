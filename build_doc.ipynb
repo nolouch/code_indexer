{
 "cells": [
  {
   "cell_type": "code",
   "execution_count": 1,
   "metadata": {},
   "outputs": [],
   "source": [
    "from llm.factory import LLMInterface\n",
    "from setting.db import SessionLocal\n",
    "from llm.embedding import get_text_embedding\n",
    "from knowledgebase.doc_builder import DocBuilder\n",
    "\n",
    "# llm_client = LLMInterface(\"bedrock\", \"us.deepseek.r1-v1:0\")\n",
    "llm_client = LLMInterface(\"bedrock\", \"arn:aws:bedrock:us-east-1:841162690310:inference-profile/us.anthropic.claude-3-7-sonnet-20250219-v1:0\")\n",
    "doc_builder = DocBuilder(llm_client, get_text_embedding)"
   ]
  },
  {
   "cell_type": "code",
   "execution_count": null,
   "metadata": {},
   "outputs": [],
   "source": [
    "sections = doc_builder.split_markdown_by_heading(\"../graph/docs/programming-guides/proto3.md\", {\n",
    "    \"doc_version\": \"1.0\",\n",
    "    \"category\": \"Programming Guides\",\n",
    "})"
   ]
  },
  {
   "cell_type": "code",
   "execution_count": null,
   "metadata": {},
   "outputs": [],
   "source": [
    "from knowledgebase.doc_model import KnowledgeBlock\n",
    "\n",
    "from sqlalchemy.orm import joinedload\n",
    "\n",
    "extend_blocks = []\n",
    "with SessionLocal() as db:\n",
    "    # Query for complete entities\n",
    "    blocks = db.query(KnowledgeBlock).options(\n",
    "        joinedload(KnowledgeBlock.source)\n",
    "    ).all()\n",
    "    \n",
    "\n",
    "    # Now you can access all attributes\n",
    "    for block in blocks:\n",
    "        extend_blocks.append({\n",
    "            'id': block.id,\n",
    "            'name': block.name,\n",
    "            'content': block.content,\n",
    "            'source_content': block.source.content\n",
    "        })\n",
    "\n",
    "contexts = doc_builder.agument_block_context(extend_blocks)\n",
    "contexts\n"
   ]
  },
  {
   "cell_type": "code",
   "execution_count": null,
   "metadata": {},
   "outputs": [],
   "source": [
    "doc_builder.analyze_concepts(topic=\"How to update protobuf definition without breaking the compatibility\")"
   ]
  },
  {
   "cell_type": "code",
   "execution_count": null,
   "metadata": {},
   "outputs": [],
   "source": [
    "from knowledgebase.doc_search import search_knowledge_blocks\n",
    "\n",
    "search_knowledge_blocks(\"How to update protobuf file?\", context_weight=0.6)"
   ]
  }
 ],
 "metadata": {
  "kernelspec": {
   "display_name": "code_graph",
   "language": "python",
   "name": "python3"
  },
  "language_info": {
   "codemirror_mode": {
    "name": "ipython",
    "version": 3
   },
   "file_extension": ".py",
   "mimetype": "text/x-python",
   "name": "python",
   "nbconvert_exporter": "python",
   "pygments_lexer": "ipython3",
   "version": "3.12.9"
  }
 },
 "nbformat": 4,
 "nbformat_minor": 2
}
